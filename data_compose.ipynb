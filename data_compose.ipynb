{
 "cells": [
  {
   "cell_type": "code",
   "execution_count": 1,
   "metadata": {},
   "outputs": [],
   "source": [
    "import pandas as pd\n",
    "import numpy as np\n",
    "import json\n",
    "import matplotlib.pyplot as plt\n",
    "from sklearn.neighbors import NearestNeighbors\n",
    "from sklearn.pipeline import make_pipeline\n",
    "from src.transformers import CountTransformer, NumericalPCA\n",
    "from src.transformers import MaxDistanceTransformer, MinDistanceTransformer\n",
    "from src.transformers import FirstTransformer, LastTransformer, CategorialPCA\n",
    "from src.transformers import LeftTransformer, RightTransformer\n",
    "import seaborn as sns\n",
    "import matplotlib.pyplot as plt"
   ]
  },
  {
   "cell_type": "code",
   "execution_count": 2,
   "metadata": {},
   "outputs": [],
   "source": [
    "def distance_analyze(data, target, metric):\n",
    "    neigh = NearestNeighbors(n_neighbors=2, metric = metric)\n",
    "    nbrs = neigh.fit(data)\n",
    "    distances, indexes = nbrs.kneighbors(data)\n",
    "\n",
    "    distances = np.sort(distances, axis=0)\n",
    "    distances = distances[:,1]\n",
    "\n",
    "    plt.figure(figsize=(6,6))\n",
    "    plt.plot(distances)\n",
    "\n",
    "    connect = np.zeros(len(indexes)) \n",
    "    for i, (x, y) in enumerate(indexes):\n",
    "        connect[i] = target[x] == target[y]\n",
    "\n",
    "    plt.title(f\"\"\"\n",
    "        K-distance Graph {metric}\n",
    "        Homo: {np.sum(connect)/len(connect)}\n",
    "        P: {np.percentile(distances, [10, 25, 50, 75, 90])}\n",
    "    \"\"\", fontsize=10)\n",
    "    plt.xlabel('Data Points sorted by distance',fontsize=14)\n",
    "    plt.ylabel('Epsilon',fontsize=14)\n",
    "\n",
    "    plt.show()\n",
    "\n",
    "   \n",
    "\n",
    "\n",
    "def plotting(PCAs, target, metrics = ['euclidean']):\n",
    "    m,n = PCAs.shape\n",
    "\n",
    "    sns.scatterplot(x=PCAs[:,0], y=PCAs[:,1], hue=target)\n",
    "    plt.show()\n",
    "    if n > 2:\n",
    "        plt.figure (figsize = (7, 6))\n",
    "        sea_plot = plt.axes(projection='3d')\n",
    "        sea_plot.scatter3D(PCAs[:,0],PCAs[:,1],PCAs[:,2], c=target, marker='o')\n",
    "        sea_plot.set_xlabel('PC1')\n",
    "        sea_plot.set_ylabel('PC2')\n",
    "        sea_plot.set_zlabel('PC3')\n",
    "        plt.show()\n",
    "    \n",
    "    for m in metrics:\n",
    "        distance_analyze(PCAs, target, m)\n",
    "\n",
    "    return \n",
    "\n",
    "\n",
    "def save(data, label):\n",
    "    m, n = data.shape\n",
    "    _df = pd.DataFrame(data, columns=[f'{label}_PC{i+1}' for i in range(n)])\n",
    "    _df.to_csv(f'{label}_PCA.csv', index=False)\n",
    "    "
   ]
  },
  {
   "cell_type": "code",
   "execution_count": 3,
   "metadata": {},
   "outputs": [
    {
     "data": {
      "text/plain": [
       "(1, 22, 62478)"
      ]
     },
     "execution_count": 3,
     "metadata": {},
     "output_type": "execute_result"
    }
   ],
   "source": [
    "df  = pd.read_csv(\"train.csv\")\n",
    "\n",
    "target = df['tgt']\n",
    "sequences = df['src'].apply(json.loads)\n",
    "\n",
    "min_index = np.min(sequences.apply(min))\n",
    "max_index = np.max(sequences.apply(max))\n",
    "min_index, max_index, len(sequences)"
   ]
  },
  {
   "cell_type": "code",
   "execution_count": 4,
   "metadata": {},
   "outputs": [
    {
     "data": {
      "text/plain": [
       "(1, 22, 1999)"
      ]
     },
     "execution_count": 4,
     "metadata": {},
     "output_type": "execute_result"
    }
   ],
   "source": [
    "df  = pd.read_csv(\"test.csv\")\n",
    "\n",
    "target_test = df['tgt']\n",
    "sequences_test = df['src'].apply(json.loads)\n",
    "\n",
    "min_index_test = np.min(sequences_test.apply(min))\n",
    "max_index_test = np.max(sequences_test.apply(max))\n",
    "min_index_test, max_index_test, len(sequences_test)"
   ]
  },
  {
   "cell_type": "code",
   "execution_count": 5,
   "metadata": {},
   "outputs": [
    {
     "name": "stderr",
     "output_type": "stream",
     "text": [
      "100%|██████████| 22/22 [00:19<00:00,  1.12it/s]\n",
      "100%|██████████| 22/22 [00:00<00:00, 35.69it/s]\n"
     ]
    }
   ],
   "source": [
    "pipeline = make_pipeline(\n",
    "    CountTransformer(max_index),\n",
    "    NumericalPCA(.9)\n",
    ")\n",
    "\n",
    "data = pipeline.fit_transform(sequences)\n",
    "\n",
    "# plotting(data, target, [])\n",
    "save(data, 'count')\n",
    "\n",
    "data = pipeline.transform(sequences_test)\n",
    "save(data, 'count_test')"
   ]
  },
  {
   "cell_type": "code",
   "execution_count": 6,
   "metadata": {},
   "outputs": [
    {
     "name": "stderr",
     "output_type": "stream",
     "text": [
      "100%|██████████| 22/22 [00:16<00:00,  1.33it/s]\n",
      "100%|██████████| 22/22 [00:00<00:00, 41.42it/s]\n"
     ]
    }
   ],
   "source": [
    "pipeline = make_pipeline(\n",
    "    MaxDistanceTransformer(max_index),\n",
    "    NumericalPCA(.9)\n",
    ")\n",
    "\n",
    "data = pipeline.fit_transform(sequences)\n",
    "\n",
    "# plotting(data, target, [])\n",
    "save(data, 'max_dist')\n",
    "\n",
    "data = pipeline.transform(sequences_test)\n",
    "save(data, 'max_dist_test')"
   ]
  },
  {
   "cell_type": "code",
   "execution_count": 7,
   "metadata": {},
   "outputs": [
    {
     "name": "stderr",
     "output_type": "stream",
     "text": [
      "100%|██████████| 22/22 [00:16<00:00,  1.32it/s]\n",
      "100%|██████████| 22/22 [00:00<00:00, 40.93it/s]\n"
     ]
    }
   ],
   "source": [
    "pipeline = make_pipeline(\n",
    "    MinDistanceTransformer(max_index),\n",
    "    NumericalPCA(.9)\n",
    ")\n",
    "\n",
    "data = pipeline.fit_transform(sequences)\n",
    "\n",
    "# plotting(data, target, [])\n",
    "save(data, 'min_dist')\n",
    "\n",
    "data = pipeline.transform(sequences_test)\n",
    "save(data, 'min_dist_test')"
   ]
  },
  {
   "cell_type": "code",
   "execution_count": 8,
   "metadata": {},
   "outputs": [
    {
     "name": "stderr",
     "output_type": "stream",
     "text": [
      "  0%|          | 0/22 [00:00<?, ?it/s]"
     ]
    },
    {
     "name": "stderr",
     "output_type": "stream",
     "text": [
      "100%|██████████| 22/22 [00:02<00:00,  8.52it/s]\n",
      "100%|██████████| 22/22 [00:00<00:00, 216.23it/s]\n"
     ]
    }
   ],
   "source": [
    "pipeline = make_pipeline(\n",
    "    FirstTransformer(max_index),\n",
    "    CategorialPCA()\n",
    ")\n",
    "\n",
    "data = pipeline.fit_transform(sequences)\n",
    "# plotting(data, target, [])\n",
    "save(data, 'first')\n",
    "\n",
    "data = pipeline.transform(sequences_test)\n",
    "save(data, 'first_test')"
   ]
  },
  {
   "cell_type": "code",
   "execution_count": 9,
   "metadata": {},
   "outputs": [],
   "source": [
    "# pipeline = make_pipeline(\n",
    "#     LastTransformer(max_index),\n",
    "# )\n",
    "\n",
    "# data = pipeline.fit_transform(sequences)\n",
    "# for m in ['euclidean', 'manhattan', 'cosine']:\n",
    "#     distance_analyze(data.to_numpy(), target, m)\n",
    "# save(data, 'last')"
   ]
  },
  {
   "cell_type": "code",
   "execution_count": 10,
   "metadata": {},
   "outputs": [
    {
     "name": "stderr",
     "output_type": "stream",
     "text": [
      "  0%|          | 0/22 [00:00<?, ?it/s]"
     ]
    },
    {
     "name": "stderr",
     "output_type": "stream",
     "text": [
      "100%|██████████| 22/22 [00:17<00:00,  1.24it/s]\n",
      "100%|██████████| 22/22 [00:00<00:00, 38.54it/s]\n"
     ]
    }
   ],
   "source": [
    "pipeline = make_pipeline(\n",
    "    LeftTransformer(max_index),\n",
    "    CategorialPCA()\n",
    ")\n",
    "\n",
    "data = pipeline.fit_transform(sequences)\n",
    "# plotting(data, target, [])\n",
    "save(data, 'left')\n",
    "\n",
    "data = pipeline.transform(sequences_test)\n",
    "save(data, 'left_test')"
   ]
  },
  {
   "cell_type": "code",
   "execution_count": 11,
   "metadata": {},
   "outputs": [
    {
     "name": "stderr",
     "output_type": "stream",
     "text": [
      "100%|██████████| 22/22 [00:17<00:00,  1.27it/s]\n",
      "100%|██████████| 22/22 [00:00<00:00, 39.51it/s]\n"
     ]
    }
   ],
   "source": [
    "pipeline = make_pipeline(\n",
    "    RightTransformer(max_index),\n",
    "    CategorialPCA()\n",
    ")\n",
    "\n",
    "data = pipeline.fit_transform(sequences)\n",
    "# plotting(data, target, [])\n",
    "save(data, 'right')\n",
    "\n",
    "data = pipeline.transform(sequences_test)\n",
    "save(data, 'right_test')"
   ]
  },
  {
   "cell_type": "code",
   "execution_count": null,
   "metadata": {},
   "outputs": [],
   "source": []
  }
 ],
 "metadata": {
  "kernelspec": {
   "display_name": "python-ai-env-cTwd-LQ7",
   "language": "python",
   "name": "python3"
  },
  "language_info": {
   "codemirror_mode": {
    "name": "ipython",
    "version": 3
   },
   "file_extension": ".py",
   "mimetype": "text/x-python",
   "name": "python",
   "nbconvert_exporter": "python",
   "pygments_lexer": "ipython3",
   "version": "3.11.2"
  },
  "orig_nbformat": 4
 },
 "nbformat": 4,
 "nbformat_minor": 2
}
